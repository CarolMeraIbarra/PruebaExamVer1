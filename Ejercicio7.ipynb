{
 "cells": [
  {
   "cell_type": "code",
   "execution_count": 7,
   "metadata": {},
   "outputs": [
    {
     "ename": "AttributeError",
     "evalue": "module 'funciones.frecuencia_absoluta_c' has no attribute 'frecuencia_absoluta_c'",
     "output_type": "error",
     "traceback": [
      "\u001b[1;31m---------------------------------------------------------------------------\u001b[0m",
      "\u001b[1;31mAttributeError\u001b[0m                            Traceback (most recent call last)",
      "Cell \u001b[1;32mIn[7], line 38\u001b[0m\n\u001b[0;32m     35\u001b[0m datos_ordenados \u001b[38;5;241m=\u001b[39m ordenarD\u001b[38;5;241m.\u001b[39mordenar_datos(datos)\n\u001b[0;32m     37\u001b[0m \u001b[38;5;66;03m# Calcular la frecuencia absoluta\u001b[39;00m\n\u001b[1;32m---> 38\u001b[0m categorias, frecuencias \u001b[38;5;241m=\u001b[39m \u001b[43mfrecAbsolutaC\u001b[49m\u001b[38;5;241;43m.\u001b[39;49m\u001b[43mfrecuencia_absoluta_c\u001b[49m(datos_ordenados)\n\u001b[0;32m     40\u001b[0m \u001b[38;5;66;03m# Calcular la frecuencia relativa\u001b[39;00m\n\u001b[0;32m     41\u001b[0m frecuencias_relativas \u001b[38;5;241m=\u001b[39m frecRelativa\u001b[38;5;241m.\u001b[39mfrecuencia_relativa(frecuencias)\n",
      "\u001b[1;31mAttributeError\u001b[0m: module 'funciones.frecuencia_absoluta_c' has no attribute 'frecuencia_absoluta_c'"
     ]
    }
   ],
   "source": [
    "# Importar graficas\n",
    "import funcionesGraficas.crear_diagrama_barras_horizontales as diagramaBarra\n",
    "import funcionesGraficas.crear_grafico_pastel as diagramaPastel\n",
    "import funcionesGraficas.crear_histograma as diagramaHistograma\n",
    "import funcionesGraficas.crear_ojiva as diagramaOjiva\n",
    "\n",
    "# Importar funciones\n",
    "import funciones.calcular_marcas_clase as marcaClase\n",
    "import funciones.calcular_ancho_clase as anchoClase\n",
    "import funciones.calcular_limites as limites\n",
    "import funciones.calcular_numero_intervalos as numIntervalos\n",
    "import funciones.calcular_rango as rangoo\n",
    "import funciones.frecuencia_absoluta as frecAbsoluta\n",
    "import funciones.frecuencia_acumulada as frecAcumulada\n",
    "import funciones.frecuencia_relativa as frecRelativa\n",
    "import funciones.frecuencia_absoluta_c as frecAbsolutaC\n",
    "import funciones.imprimir_resultados_corto as resultadosC\n",
    "import funciones.imprimir_resultados_largo as resultadosL\n",
    "import funciones.imprimir_tabla_corta as tablaC\n",
    "import funciones.imprimir_tabla_larga as tablaL\n",
    "import funciones.obtener_valores_extremos as valoresEx\n",
    "import funciones.ordenar_datos as ordenarD\n",
    "\n",
    "# Lista de datos\n",
    "datos = [\n",
    "    \"Pumas\", \"América\", \"Chivas\", \"Pumas\", \"Chivas\",\n",
    "    \"Chivas\", \"América\", \"Toluca\", \"Toluca\", \"Pumas\",\n",
    "    \"Santos\", \"Necaxa\", \"América\", \"América\", \"América\",\n",
    "    \"Pumas\", \"Santos\", \"Pumas\", \"Pumas\", \"Pumas\",\n",
    "    \"América\", \"Chivas\", \"América\", \"Pumas\", \"Necaxa\",\n",
    "    \"Toluca\", \"Chivas\", \"América\", \"Toluca\", \"Santos\"\n",
    "]\n",
    "\n",
    "# Ordenar los datos\n",
    "datos_ordenados = ordenarD.ordenar_datos(datos)\n",
    "\n",
    "# Calcular la frecuencia absoluta\n",
    "categorias, frecuencias = frecAbsolutaC.frecuencia_absoluta_c(datos_ordenados)\n",
    "\n",
    "# Calcular la frecuencia relativa\n",
    "frecuencias_relativas = frecRelativa.frecuencia_relativa(frecuencias)\n",
    "\n",
    "# Calcular la frecuencia acumulada\n",
    "frecuencias_acumuladas = frecAcumulada.frecuencia_acumulada(frecuencias)\n",
    "\n",
    "# Crear gráfico de pastel\n",
    "diagramaPastel.crear_grafico_pastel(categorias, frecuencias_relativas)\n",
    "\n",
    "# Crear gráfico de barras horizontales\n",
    "diagramaBarra.crear_diagrama_barras_horizontales(categorias, frecuencias)\n",
    "\n",
    "# Imprimir los resultados cortos\n",
    "resultadosC.imprimir_resultados_corto(datos_ordenados, frecuencias, frecuencias_relativas, frecuencias_acumuladas)\n",
    "\n",
    "# Imprimir la tabla\n",
    "tablaC.imprimir_tabla_corta(categorias, frecuencias, frecuencias_relativas, frecuencias_acumuladas)\n"
   ]
  }
 ],
 "metadata": {
  "kernelspec": {
   "display_name": "Python 3",
   "language": "python",
   "name": "python3"
  },
  "language_info": {
   "codemirror_mode": {
    "name": "ipython",
    "version": 3
   },
   "file_extension": ".py",
   "mimetype": "text/x-python",
   "name": "python",
   "nbconvert_exporter": "python",
   "pygments_lexer": "ipython3",
   "version": "3.12.4"
  }
 },
 "nbformat": 4,
 "nbformat_minor": 2
}
